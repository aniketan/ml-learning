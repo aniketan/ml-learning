{
 "cells": [
  {
   "cell_type": "code",
   "execution_count": 34,
   "id": "888ce12a",
   "metadata": {},
   "outputs": [
    {
     "name": "stdout",
     "output_type": "stream",
     "text": [
      "      calories  duration\n",
      "day1       420        50\n",
      "day2       380        40\n",
      "day3       390        45\n",
      "9999\n",
      "   id  parent_id           name           code description           icon  \\\n",
      "0   1        NaN          Abuse          abuse         NaN  fas fa-folder   \n",
      "1   2        NaN     Automobile     automobile         NaN     fas fa-car   \n",
      "2   3        NaN  Entertainment  entertainment         NaN    fas fa-film   \n",
      "\n",
      "     color  is_system  is_active           created_at           updated_at  \n",
      "0  #6c757d          1          1  2025-07-10 12:36:40  2025-07-10 12:36:40  \n",
      "1  #795548          1          1  2025-07-10 12:36:40  2025-07-10 12:36:40  \n",
      "2  #e83e8c          1          1  2025-07-10 12:36:40  2025-07-10 12:36:40  \n",
      "      id  parent_id              name              code  \\\n",
      "111  259      240.0             Snack             SNACK   \n",
      "112  260      240.0  Account Transfer  ACCOUNT_TRANSFER   \n",
      "113  261        NaN              Loan               NaN   \n",
      "\n",
      "                                         description icon color  is_system  \\\n",
      "111  Migrated subcategory from legacy expense_report  NaN   NaN          0   \n",
      "112  Migrated subcategory from legacy expense_report  NaN   NaN          0   \n",
      "113                                              NaN  NaN   NaN          0   \n",
      "\n",
      "     is_active           created_at           updated_at  \n",
      "111          1  2025-07-12 03:36:42  2025-07-12 03:36:42  \n",
      "112          1  2025-07-12 03:36:42  2025-07-12 03:36:42  \n",
      "113          1  2025-07-13 04:47:10  2025-07-13 04:47:10  \n"
     ]
    }
   ],
   "source": [
    "import pandas as pd\n",
    "\n",
    "a = [1, 7, 2]\n",
    "\n",
    "myvar = pd.Series(a, index = [\"x\", \"y\", \"z\"])\n",
    "\n",
    "# print(myvar)\n",
    "\n",
    "\n",
    "calories = {\"day1\": 420, \"day2\": 380, \"day3\": 390}\n",
    "\n",
    "myvar = pd.Series(calories, index = [\"day1\", \"day2\"]) #fetch only day1 and day2\n",
    "\n",
    "# print(myvar)\n",
    "\n",
    "data = {\n",
    "  \"calories\": [420, 380, 390],\n",
    "  \"duration\": [50, 40, 45]\n",
    "}\n",
    "\n",
    "#load data into a DataFrame object:\n",
    "# df = pd.DataFrame(data)\n",
    "\n",
    "#print(df.loc[2])  # loc is like pointer output header and row at index 2\n",
    "#print(df.loc[[0, 1]]) #fetch multiple rows at index 0 and 1\n",
    "\n",
    "df = pd.DataFrame(data, index = [\"day1\", \"day2\", \"day3\"])  #label the data\n",
    "print(df)\n",
    "dataFrame = pd.read_csv('categories.csv')\n",
    "print(pd.options.display.max_rows)  #number is 60, which means that if the DataFrame contains more than 60 rows, the print(df) statement will return only the headers and the first and last 5 rows.\n",
    "#print(dataFrame)\n",
    "# pd.options.display.max_rows = 9999\n",
    "print(dataFrame.head(3))  #print first 3 rows\n",
    "print(dataFrame.tail(3))\n"
   ]
  },
  {
   "cell_type": "markdown",
   "id": "e3fd8ee8",
   "metadata": {},
   "source": []
  },
  {
   "cell_type": "markdown",
   "id": "c302f361",
   "metadata": {},
   "source": []
  },
  {
   "cell_type": "markdown",
   "id": "5484b1e7",
   "metadata": {},
   "source": [
    "Series a one dimentional array"
   ]
  },
  {
   "cell_type": "code",
   "execution_count": 4,
   "id": "cd78fc22",
   "metadata": {},
   "outputs": [
    {
     "name": "stdout",
     "output_type": "stream",
     "text": [
      "0    1\n",
      "1    7\n",
      "2    2\n",
      "dtype: int64\n"
     ]
    }
   ],
   "source": [
    "import pandas as pd\n",
    "dataFrame = pd.read_csv('categories.csv')\n",
    "# import pandas\n",
    "\n",
    "# mydataset = {\n",
    "#   'cars': [\"BMW\", \"Volvo\", \"Ford\"],\n",
    "#   'passings': [3, 7, 2]\n",
    "# }\n",
    "\n",
    "# myvar = pandas.DataFrame(mydataset)\n",
    "# print(dataFrame.to_string())\n",
    "# print(dataFrame)\n",
    "a = [1, 7, 2]\n",
    "\n",
    "myvar = pd.Series(a)\n",
    "\n",
    "print(myvar)\n"
   ]
  },
  {
   "cell_type": "markdown",
   "id": "c1a52a02",
   "metadata": {},
   "source": [
    "Pandas is a Python library used for working with data sets (it can be from csv file)\n",
    "\n",
    "It has functions for analyzing, cleaning, exploring, and manipulating data.\n",
    "\n",
    "The name \"Pandas\" has a reference to both \"Panel Data\", and \"Python Data Analysis\" and was created by Wes McKinney in 2008."
   ]
  },
  {
   "cell_type": "markdown",
   "id": "83326f84",
   "metadata": {},
   "source": [
    "***Data Cleaning***\n",
    "\n",
    "Bad data could be:\n",
    "\n",
    "Empty cells\n",
    "Data in wrong format\n",
    "Wrong data\n",
    "Duplicates"
   ]
  },
  {
   "cell_type": "code",
   "execution_count": null,
   "id": "784e84fd",
   "metadata": {},
   "outputs": [
    {
     "name": "stdout",
     "output_type": "stream",
     "text": [
      "   id  parent_id  name   code description           icon    color  is_system  is_active           created_at           updated_at\n",
      "0   1          0    AB    abs        desc  fas fa-folder  #6c757d          1          1  2025-07-10 12:36:40  2025-07-10 12:36:40\n",
      "1   2          1   tst   test         trt  fas fa-folder  #6c757d          1          1  2025-07-10 12:36:40  2025-07-10 12:36:40\n",
      "2   2          1  tst1  test1         NaN   fas fa-ghfgf  #795548          1          1  2025-07-10 12:36:40  2025-07-10 12:36:40\n",
      "3   2          1   NaN  test3        trt3     fas fa-car  #795548          1          1  2025-07-10 12:36:40  2025-07-10 12:36:40\n",
      "4   2          1   NaN  test3         NaN     fas fa-car  #795548          1          1  2025-07-10 12:36:40  2025-07-10 12:36:40\n",
      "5   5          2    AB    abs        desc  fas fa-folder  #6c757d          1          1  2025-07-10 12:36:40  2025-07-10 12:36:40\n",
      "   id  parent_id name  code description           icon    color  is_system  is_active           created_at           updated_at\n",
      "0   1          0   AB   abs        desc  fas fa-folder  #6c757d          1          1  2025-07-10 12:36:40  2025-07-10 12:36:40\n",
      "1   2          1  tst  test         trt  fas fa-folder  #6c757d          1          1  2025-07-10 12:36:40  2025-07-10 12:36:40\n",
      "5   5          2   AB   abs        desc  fas fa-folder  #6c757d          1          1  2025-07-10 12:36:40  2025-07-10 12:36:40\n",
      "   id  parent_id name  code description           icon    color  is_system  is_active           created_at           updated_at\n",
      "0   1          0   AB   abs        desc  fas fa-folder  #6c757d          1          1  2025-07-10 12:36:40  2025-07-10 12:36:40\n",
      "1   2          1  tst  test         trt  fas fa-folder  #6c757d          1          1  2025-07-10 12:36:40  2025-07-10 12:36:40\n",
      "5   5          2   AB   abs        desc  fas fa-folder  #6c757d          1          1  2025-07-10 12:36:40  2025-07-10 12:36:40\n"
     ]
    }
   ],
   "source": [
    "import pandas as pd\n",
    "dataFrame = pd.read_csv('categories.csv')\n",
    "clean_frame = dataFrame.dropna()\n",
    "print(dataFrame.to_string())\n",
    "print(clean_frame.to_string())\n",
    "dataFrame.dropna(inplace = True) #inplace true means change in original df\n",
    "print(dataFrame.to_string())"
   ]
  },
  {
   "cell_type": "markdown",
   "id": "a5fe378b",
   "metadata": {},
   "source": [
    "Replace Empty Values fillna"
   ]
  },
  {
   "cell_type": "code",
   "execution_count": null,
   "id": "793d1a82",
   "metadata": {},
   "outputs": [
    {
     "name": "stdout",
     "output_type": "stream",
     "text": [
      "   id  parent_id  name   code          description           icon    color  is_system  is_active           created_at           updated_at\n",
      "0   1          0    AB    abs                 desc  fas fa-folder  #6c757d          1          1  2025-07-10 12:36:40  2025-07-10 12:36:40\n",
      "1   2          1   tst   test                  trt  fas fa-folder  #6c757d          1          1  2025-07-10 12:36:40  2025-07-10 12:36:40\n",
      "2   2          1  tst1  test1  this is description   fas fa-ghfgf  #795548          1          1  2025-07-10 12:36:40  2025-07-10 12:36:40\n",
      "3   2          1   NaN  test3                 trt3     fas fa-car  #795548          1          1  2025-07-10 12:36:40  2025-07-10 12:36:40\n",
      "4   2          1   NaN  test3  this is description     fas fa-car  #795548          1          1  2025-07-10 12:36:40  2025-07-10 12:36:40\n",
      "5   5          2    AB    abs                 desc  fas fa-folder  #6c757d          1          1  2025-07-10 12:36:40  2025-07-10 12:36:40\n"
     ]
    }
   ],
   "source": [
    "import pandas as pd\n",
    "\n",
    "df = pd.read_csv('categories.csv')\n",
    "\n",
    "#df.fillna(\"hola\", inplace = True)\n",
    "#print(df.to_string())\n",
    "\n",
    "df.fillna({\"description\": \"this is description\"}, inplace=True) #fillna for specific column\n",
    "print(df.to_string())\n"
   ]
  },
  {
   "cell_type": "markdown",
   "id": "9836e867",
   "metadata": {},
   "source": [
    "Replace Using Mean, Median, or Mode"
   ]
  },
  {
   "cell_type": "code",
   "execution_count": null,
   "id": "878a1353",
   "metadata": {},
   "outputs": [
    {
     "name": "stdout",
     "output_type": "stream",
     "text": [
      "      id      parent_id  name              code description           icon    color  is_system  is_active           created_at          updated_at\n",
      "0   10.0              0    AB               abs        desc  fas fa-folder  #6c757d          1          1  2025-07-10 12:36:40 2025-07-10 12:36:40\n",
      "1   22.0              1   tst              test         trt  fas fa-folder  #6c757d          1          1  2025-07-10 12:36:40 2025-07-10 12:36:40\n",
      "2  253.0              1  tst1             test1         NaN   fas fa-ghfgf  #795548          1          1  2025-07-10 12:36:40 2025-07-10 12:36:40\n",
      "3   21.0              1   NaN             test3        trt3     fas fa-car  #795548          1          1  2025-07-10 12:36:40 2025-07-10 12:36:40\n",
      "4   28.0              1   NaN  date-with-string         NaN     fas fa-car  #795548          1          1   date was string >>                 NaT\n",
      "5   66.8  <<<this Value    AB               abs        desc  fas fa-folder  #6c757d          1          1  2025-07-10 12:36:40 2025-07-10 12:36:40\n",
      "      id      parent_id  name   code description           icon    color  is_system  is_active           created_at          updated_at\n",
      "0   10.0              0    AB    abs        desc  fas fa-folder  #6c757d          1          1  2025-07-10 12:36:40 2025-07-10 12:36:40\n",
      "1   22.0              1   tst   test         trt  fas fa-folder  #6c757d          1          1  2025-07-10 12:36:40 2025-07-10 12:36:40\n",
      "2  253.0              1  tst1  test1         NaN   fas fa-ghfgf  #795548          1          1  2025-07-10 12:36:40 2025-07-10 12:36:40\n",
      "3   21.0              1   NaN  test3        trt3     fas fa-car  #795548          1          1  2025-07-10 12:36:40 2025-07-10 12:36:40\n",
      "5   66.8  <<<this Value    AB    abs        desc  fas fa-folder  #6c757d          1          1  2025-07-10 12:36:40 2025-07-10 12:36:40\n",
      "      id      parent_id  name              code description           icon    color  is_system  is_active created_at          updated_at\n",
      "0   10.0              0    AB               abs        desc  fas fa-folder  #6c757d          1          1   10:55:14 2025-07-10 12:36:40\n",
      "1   22.0              1   tst              test         trt  fas fa-folder  #6c757d          1          1   10:55:14 2025-07-10 12:36:40\n",
      "2  253.0              1  tst1             test1         NaN   fas fa-ghfgf  #795548          1          1   10:55:14 2025-07-10 12:36:40\n",
      "3   21.0              1   NaN             test3        trt3     fas fa-car  #795548          1          1   10:55:14 2025-07-10 12:36:40\n",
      "4   28.0              1   NaN  date-with-string         NaN     fas fa-car  #795548          1          1   10:55:14 2025-09-11 10:55:14\n",
      "5   66.8  <<<this Value    AB               abs        desc  fas fa-folder  #6c757d          1          1   10:55:14 2025-07-10 12:36:40\n"
     ]
    }
   ],
   "source": [
    "import pandas as pd\n",
    "from datetime import datetime\n",
    "\n",
    "df = pd.read_csv('categories.csv')\n",
    "\n",
    "x = df[\"id\"].mean()\n",
    "\n",
    "df.fillna({\"id\": x}, inplace=True)\n",
    "\n",
    "dropExample = df.copy()\n",
    "dropExample[\"updated_at\"] = pd.to_datetime(dropExample[\"updated_at\"], errors=\"coerce\") #convert to datetime, invalid parsing will be set as NaT\n",
    "print(dropExample.to_string()) \n",
    "\n",
    "print(dropExample.dropna(subset=['updated_at']).to_string()) #drop rows where updated_at is NaT\n",
    "\n",
    "\n",
    "\n",
    "current_time = datetime.now().strftime(\"%H:%M:%S\")\n",
    "dropExample[\"created_at\"] = pd.to_datetime(dropExample[\"created_at\"], errors=\"coerce\") \n",
    "dropExample.loc[dropExample[\"created_at\"].isna(), \"created_at\"] = current_time  # replace created_at where NAt using loc method\n",
    "dropExample.fillna({\"updated_at\": pd.to_datetime(current_time)}, inplace=True) #replace NaT with current time in updated_at column\n",
    "\n",
    "print(dropExample.to_string())\n",
    "\n"
   ]
  },
  {
   "cell_type": "markdown",
   "id": "f6f1e716",
   "metadata": {},
   "source": [
    "**Question ??**\n",
    " - what type of errors eg. : RaiseCoerce ?\n",
    " - What is fasl fillna() or loc() method ? fillna is faster that is feature of pandas\n",
    "    Performance Comparison:\n",
    "        fillna() - Faster\n",
    "\n",
    "        ✅ Optimized C implementation\n",
    "        ✅ Vectorized operations\n",
    "        ✅ Designed specifically for filling missing values\n",
    "        ✅ Single operation\n",
    "\n",
    "\n",
    "        loc[] - Slower\n",
    "\n",
    "        ❌ Creates boolean mask first (isna())\n",
    "        ❌ Then applies conditional assignment\n",
    "        ❌ Two-step process\n",
    "        ❌ More overhead"
   ]
  },
  {
   "cell_type": "code",
   "execution_count": null,
   "id": "708edd5a",
   "metadata": {},
   "outputs": [],
   "source": []
  }
 ],
 "metadata": {
  "kernelspec": {
   "display_name": "ml_learning",
   "language": "python",
   "name": "python3"
  },
  "language_info": {
   "codemirror_mode": {
    "name": "ipython",
    "version": 3
   },
   "file_extension": ".py",
   "mimetype": "text/x-python",
   "name": "python",
   "nbconvert_exporter": "python",
   "pygments_lexer": "ipython3",
   "version": "3.12.3"
  }
 },
 "nbformat": 4,
 "nbformat_minor": 5
}

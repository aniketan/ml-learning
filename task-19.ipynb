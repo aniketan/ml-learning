{
 "cells": [
  {
   "cell_type": "markdown",
   "id": "81844fed",
   "metadata": {},
   "source": [
    "# Indentation test\n",
    "\n"
   ]
  },
  {
   "cell_type": "code",
   "execution_count": 5,
   "id": "c526e58f",
   "metadata": {},
   "outputs": [
    {
     "name": "stdout",
     "output_type": "stream",
     "text": [
      "Five is greater than two!\n",
      "Five is greater than two!\n"
     ]
    }
   ],
   "source": [
    "if 5 > 2:\n",
    " print(\"Five is greater than two!\") \n",
    "if 5 > 2:\n",
    "    print(\"Five is greater than two!\") "
   ]
  },
  {
   "cell_type": "markdown",
   "id": "03e8945f",
   "metadata": {},
   "source": [
    "# Variable Casting\n",
    "\n"
   ]
  },
  {
   "cell_type": "code",
   "execution_count": null,
   "id": "44793e5e",
   "metadata": {},
   "outputs": [],
   "source": [
    "a = str(4)\n",
    "b = int(5.91) #output 5\n",
    "c = float(6)"
   ]
  },
  {
   "cell_type": "markdown",
   "id": "5b5e2417",
   "metadata": {},
   "source": [
    "# Get the Type\n"
   ]
  },
  {
   "cell_type": "code",
   "execution_count": 9,
   "id": "01dc978c",
   "metadata": {},
   "outputs": [
    {
     "name": "stdout",
     "output_type": "stream",
     "text": [
      "<class 'str'>\n"
     ]
    }
   ],
   "source": [
    "a = str(4)\n",
    "b = int(5.91) #output 5\n",
    "c = float(6)\n",
    "print(type(a))"
   ]
  },
  {
   "cell_type": "markdown",
   "id": "7bbcfc31",
   "metadata": {},
   "source": [
    "# Case-Sensitive\n"
   ]
  },
  {
   "cell_type": "code",
   "execution_count": 10,
   "id": "8235b4a2",
   "metadata": {},
   "outputs": [
    {
     "name": "stdout",
     "output_type": "stream",
     "text": [
      "WSL and VS Code Jupyter integration is working!\n",
      "it is diffrent\n"
     ]
    }
   ],
   "source": [
    "message = \"WSL and VS Code Jupyter integration is working!\"\n",
    "Message = \"it is diffrent\"\n",
    "print(message)\n",
    "print(Message)"
   ]
  },
  {
   "cell_type": "markdown",
   "id": "19913787",
   "metadata": {},
   "source": [
    "# Many Values to Multiple Variables\n"
   ]
  },
  {
   "cell_type": "code",
   "execution_count": 11,
   "id": "82bfe34d",
   "metadata": {},
   "outputs": [
    {
     "name": "stdout",
     "output_type": "stream",
     "text": [
      "Orange\n",
      "Banana\n",
      "Cherry\n"
     ]
    }
   ],
   "source": [
    "x, y, z = \"Orange\", \"Banana\", \"Cherry\"\n",
    "print(x)\n",
    "print(y)\n",
    "print(z)"
   ]
  },
  {
   "cell_type": "markdown",
   "id": "b17d0663",
   "metadata": {},
   "source": [
    "# Unpack a Collection"
   ]
  },
  {
   "cell_type": "code",
   "execution_count": 12,
   "id": "32d50871",
   "metadata": {},
   "outputs": [
    {
     "name": "stdout",
     "output_type": "stream",
     "text": [
      "apple\n",
      "banana\n",
      "cherry\n"
     ]
    }
   ],
   "source": [
    "fruits = [\"apple\", \"banana\", \"cherry\"]\n",
    "x, y, z = fruits\n",
    "print(x)\n",
    "print(y)\n",
    "print(z)"
   ]
  },
  {
   "cell_type": "markdown",
   "id": "dc45ed54",
   "metadata": {},
   "source": [
    "The `global` Keyword"
   ]
  },
  {
   "cell_type": "code",
   "execution_count": 13,
   "id": "b8b0e450",
   "metadata": {},
   "outputs": [
    {
     "name": "stdout",
     "output_type": "stream",
     "text": [
      "Python is fantastic\n"
     ]
    }
   ],
   "source": [
    "def myfunc():\n",
    "  global x\n",
    "  x = \"fantastic\"\n",
    "\n",
    "myfunc()\n",
    "\n",
    "print(\"Python is \" + x)"
   ]
  },
  {
   "cell_type": "markdown",
   "id": "e9d3b93a",
   "metadata": {},
   "source": [
    "override global variable"
   ]
  },
  {
   "cell_type": "code",
   "execution_count": 14,
   "id": "2a8643b0",
   "metadata": {},
   "outputs": [
    {
     "name": "stdout",
     "output_type": "stream",
     "text": [
      "Python is fantastic\n"
     ]
    }
   ],
   "source": [
    "x = \"awesome\"\n",
    "\n",
    "def myfunc():\n",
    "  global x\n",
    "  x = \"fantastic\"\n",
    "\n",
    "myfunc()\n",
    "\n",
    "print(\"Python is \" + x)"
   ]
  },
  {
   "cell_type": "markdown",
   "id": "34725199",
   "metadata": {},
   "source": [
    "Complex DATA Type\n",
    "\n",
    "why do we need complex type "
   ]
  },
  {
   "cell_type": "markdown",
   "id": "a2ad0e98",
   "metadata": {},
   "source": []
  }
 ],
 "metadata": {
  "kernelspec": {
   "display_name": "ml_learning",
   "language": "python",
   "name": "python3"
  },
  "language_info": {
   "codemirror_mode": {
    "name": "ipython",
    "version": 3
   },
   "file_extension": ".py",
   "mimetype": "text/x-python",
   "name": "python",
   "nbconvert_exporter": "python",
   "pygments_lexer": "ipython3",
   "version": "3.12.3"
  }
 },
 "nbformat": 4,
 "nbformat_minor": 5
}

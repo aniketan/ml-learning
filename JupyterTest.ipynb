{
 "cells": [
  {
   "cell_type": "markdown",
   "id": "81844fed",
   "metadata": {},
   "source": [
    "# Verify Python and Jupyter Installation\n",
    "\n",
    "Check the installed versions of Python and Jupyter to confirm they are available in your WSL environment."
   ]
  },
  {
   "cell_type": "code",
   "execution_count": null,
   "id": "c526e58f",
   "metadata": {},
   "outputs": [],
   "source": [
    "!python --version\n",
    "!jupyter --version"
   ]
  },
  {
   "cell_type": "markdown",
   "id": "03e8945f",
   "metadata": {},
   "source": [
    "# Create and Run a Simple Python Cell\n",
    "\n",
    "Run a basic Python statement to verify code execution in the notebook."
   ]
  },
  {
   "cell_type": "code",
   "execution_count": null,
   "id": "44793e5e",
   "metadata": {},
   "outputs": [],
   "source": [
    "print('Hello from Jupyter in WSL!')"
   ]
  },
  {
   "cell_type": "markdown",
   "id": "5b5e2417",
   "metadata": {},
   "source": [
    "# Import and Use a Python Library\n",
    "\n",
    "Import a standard Python library and perform a simple operation to ensure libraries work as expected."
   ]
  },
  {
   "cell_type": "code",
   "execution_count": 7,
   "id": "01dc978c",
   "metadata": {},
   "outputs": [
    {
     "name": "stdout",
     "output_type": "stream",
     "text": [
      "The square root of 16 is: 4.0\n"
     ]
    }
   ],
   "source": [
    "import math\n",
    "result = math.sqrt(16)\n",
    "print(\"The square root of 16 is:\", result)"
   ]
  },
  {
   "cell_type": "markdown",
   "id": "7bbcfc31",
   "metadata": {},
   "source": [
    "# Display Output in the Output Pane\n",
    "\n",
    "Assign a value to a variable and display it to confirm output rendering."
   ]
  },
  {
   "cell_type": "code",
   "execution_count": 8,
   "id": "8235b4a2",
   "metadata": {},
   "outputs": [
    {
     "data": {
      "text/plain": [
       "'WSL and VS Code Jupyter integration is working!'"
      ]
     },
     "execution_count": 8,
     "metadata": {},
     "output_type": "execute_result"
    }
   ],
   "source": [
    "message = \"WSL and VS Code Jupyter integration is working!\"\n",
    "message"
   ]
  },
  {
   "cell_type": "markdown",
   "id": "19913787",
   "metadata": {},
   "source": [
    "# Run a Shell Command from a Notebook Cell\n",
    "\n",
    "Use a shell command to demonstrate integration with the WSL environment."
   ]
  },
  {
   "cell_type": "code",
   "execution_count": 11,
   "id": "82bfe34d",
   "metadata": {},
   "outputs": [
    {
     "name": "stdout",
     "output_type": "stream",
     "text": [
      "/home/rohit/ml-learning\n"
     ]
    },
    {
     "name": "stdout",
     "output_type": "stream",
     "text": [
      "total 20\n",
      "drwxr-xr-x  4 rohit rohit 4096 Aug 28 03:04 .\n",
      "drwxr-x--- 15 rohit rohit 4096 Aug 28 02:58 ..\n",
      "drwxr-xr-x  7 rohit rohit 4096 Aug 28 02:45 .git\n",
      "-rw-r--r--  1 rohit rohit 2352 Aug 28 03:04 JupyterTest.ipynb\n",
      "drwxr-xr-x  7 rohit rohit 4096 Aug 28 02:57 ml_learning\n"
     ]
    }
   ],
   "source": [
    "!pwd\n",
    "!ls -al"
   ]
  }
 ],
 "metadata": {
  "kernelspec": {
   "display_name": "ml_learning",
   "language": "python",
   "name": "python3"
  },
  "language_info": {
   "codemirror_mode": {
    "name": "ipython",
    "version": 3
   },
   "file_extension": ".py",
   "mimetype": "text/x-python",
   "name": "python",
   "nbconvert_exporter": "python",
   "pygments_lexer": "ipython3",
   "version": "3.12.3"
  }
 },
 "nbformat": 4,
 "nbformat_minor": 5
}

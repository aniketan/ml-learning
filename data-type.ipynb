{
 "cells": [
  {
   "cell_type": "markdown",
   "id": "f402f9ba",
   "metadata": {},
   "source": [
    "Slicing"
   ]
  },
  {
   "cell_type": "code",
   "execution_count": 25,
   "id": "935483d5",
   "metadata": {},
   "outputs": [
    {
     "name": "stdout",
     "output_type": "stream",
     "text": [
      "Hell\n",
      "Hello\n"
     ]
    }
   ],
   "source": [
    "#Get the characters from position 2 to position 5 \n",
    "\n",
    "b = \"Hello, World!\"\n",
    "print(b[0:4])\n",
    "b = \"Hello, World!\"\n",
    "print(b[:5])"
   ]
  },
  {
   "cell_type": "code",
   "execution_count": 19,
   "id": "9860e56c",
   "metadata": {},
   "outputs": [
    {
     "name": "stdout",
     "output_type": "stream",
     "text": [
      "(1+0j)\n"
     ]
    }
   ],
   "source": [
    "x = 1\n",
    "c = complex(x)\n",
    "print(c)"
   ]
  },
  {
   "cell_type": "code",
   "execution_count": 18,
   "id": "923226c1",
   "metadata": {},
   "outputs": [
    {
     "name": "stdout",
     "output_type": "stream",
     "text": [
      "104\n",
      "bytearray(b'Hello')\n"
     ]
    }
   ],
   "source": [
    "data = bytearray('hello', 'utf-8')\n",
    "mv = memoryview(data)\n",
    "print(mv[0])      # 104 (ASCII for 'h')\n",
    "mv[0] = 72        # change 'h' to 'H'\n",
    "print(data)       # bytearray(b'Hello')"
   ]
  },
  {
   "cell_type": "code",
   "execution_count": null,
   "id": "a23a764f",
   "metadata": {},
   "outputs": [],
   "source": []
  },
  {
   "cell_type": "code",
   "execution_count": null,
   "id": "96eebe28",
   "metadata": {},
   "outputs": [],
   "source": []
  },
  {
   "cell_type": "markdown",
   "id": "a03ed960",
   "metadata": {},
   "source": [
    "MemoryView\n",
    "\n",
    "Key features:\n",
    "\n",
    "A memoryview object lets you read and modify the original data in-place (if the original object is mutable).\n",
    "\n",
    "Works with objects like bytes, bytearray, and other binary objects.\n",
    "\n",
    "Does NOT support standard lists or strings."
   ]
  },
  {
   "cell_type": "code",
   "execution_count": 17,
   "id": "c7fab308",
   "metadata": {},
   "outputs": [
    {
     "name": "stdout",
     "output_type": "stream",
     "text": [
      "['a', 'b', 'c']\n",
      "('a', 'b', 'c')\n",
      "range(0, 6)\n",
      "{'name': 'John', 'age': 36, 'country': 'Norway'}\n",
      "{'banana', 'apple', 'cherry'}\n",
      "frozenset({'banana', 'apple', 'cherry'})\n",
      "b'\\x00\\x00\\x00\\x00\\x00'\n",
      "bytearray(b'\\x00\\x00\\x00\\x00\\x00')\n",
      "<class 'memoryview'>\n"
     ]
    }
   ],
   "source": [
    "x = list((\"a\",\"b\",\"c\"))\n",
    "y = tuple(x)\n",
    "print(x) #['a', 'b', 'c']\n",
    "\n",
    "print(y) #('a', 'b', 'c')\n",
    "\n",
    "r = range(6)\n",
    "print(r)\n",
    "### Dictionaries \n",
    "dict1 = dict(name=\"John\", age=36, country=\"Norway\") ## similar as associative array in PHP\n",
    "print(dict1)\n",
    "set1 = set((\"apple\", \"banana\", \"cherry\"))\n",
    "print(set1) # {'banana', 'apple', 'cherry'}\n",
    "\n",
    "frozenset1 = frozenset((\"apple\", \"banana\", \"cherry\"))\n",
    "print(frozenset1) # it is set but immutable\n",
    "\n",
    "by = bytes(5)\n",
    "print(by) # b'\\x00\\x00\\x00\\x00\\x00'\n",
    "bytearray1 = bytearray(5)\n",
    "print(bytearray1) # bytearray(b'\\x00\\x00\\x00\\x00\\x\n",
    "\n",
    "memV = memoryview(bytes(5))\n",
    "print(type(memV)) # <class 'memoryview'>"
   ]
  },
  {
   "cell_type": "markdown",
   "id": "309065b9",
   "metadata": {},
   "source": [
    "Data Type in Python  \n",
    "\n",
    "Text Type : str \n",
    "\n",
    "Numeric types : int, float, complex\n",
    "\n",
    "Sequence Types : list, tuple, range\n",
    "\n",
    "Mapping Type : dict\n",
    "\n",
    "Set Types : set, frozenset\n",
    "\n",
    "Boolean Type : bool\n",
    "\n",
    "Binary Types: bytes, bytearray, memoryview\n",
    "\n",
    "None Type :  NoneType"
   ]
  },
  {
   "cell_type": "markdown",
   "id": "769441a2",
   "metadata": {},
   "source": []
  },
  {
   "cell_type": "markdown",
   "id": "8e4d6dc7",
   "metadata": {},
   "source": []
  }
 ],
 "metadata": {
  "kernelspec": {
   "display_name": "ml_learning",
   "language": "python",
   "name": "python3"
  },
  "language_info": {
   "codemirror_mode": {
    "name": "ipython",
    "version": 3
   },
   "file_extension": ".py",
   "mimetype": "text/x-python",
   "name": "python",
   "nbconvert_exporter": "python",
   "pygments_lexer": "ipython3",
   "version": "3.12.3"
  }
 },
 "nbformat": 4,
 "nbformat_minor": 5
}

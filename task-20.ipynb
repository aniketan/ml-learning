{
 "cells": [
  {
   "cell_type": "markdown",
   "id": "2124759d",
   "metadata": {},
   "source": [
    "IN Python switch ~ match"
   ]
  },
  {
   "cell_type": "code",
   "execution_count": null,
   "id": "ad198636",
   "metadata": {},
   "outputs": [],
   "source": [
    "month = \"JAN\"\n",
    "\n",
    "match month:\n",
    "    case \"JAN\":\n",
    "        print(\"January\")\n",
    "    case _: #default\n",
    "        print(\"Not January\")\n",
    "\n",
    "\n",
    "month = 4\n",
    "day = 2\n",
    "match day:\n",
    "  case 1 | 2 | 3 | 4 | 5 if month == 4:\n",
    "    print(\"A weekday in April\")\n",
    "  case 1 | 2 | 3 | 4 | 5 if month == 5:\n",
    "    print(\"A weekday in May\")\n",
    "  case _:\n",
    "    print(\"No match\")\n",
    "\n"
   ]
  },
  {
   "cell_type": "code",
   "execution_count": 11,
   "id": "7c93e8c7",
   "metadata": {},
   "outputs": [
    {
     "name": "stdout",
     "output_type": "stream",
     "text": [
      "apple\n",
      "['banana', 'cherry']\n",
      "strawberry\n",
      "raspberry\n"
     ]
    }
   ],
   "source": [
    "fruits = (\"apple\", \"banana\", \"cherry\", \"strawberry\", \"raspberry\")\n",
    "\n",
    "(green, yellow, *red) = fruits\n",
    "\n",
    "#print(green)\n",
    "#print(yellow)\n",
    "#print(red)\n",
    "\n",
    "(a,*s,d,f) = fruits\n",
    "print(a)\n",
    "print(s)\n",
    "print(d)\n",
    "print(f)\n",
    "#print(j)"
   ]
  },
  {
   "cell_type": "markdown",
   "id": "8338e08d",
   "metadata": {},
   "source": [
    "**Workaround to update Tuple**\n",
    "> convert to list\n",
    "> update\n",
    "> convert to tuple"
   ]
  },
  {
   "cell_type": "code",
   "execution_count": null,
   "id": "94056eb4",
   "metadata": {},
   "outputs": [],
   "source": [
    "x = (\"apple\", \"banana\", \"cherry\")\n",
    "y = list(x)\n",
    "y[1] = \"kiwi\"\n",
    "x = tuple(y)\n",
    "\n",
    "print(x)"
   ]
  },
  {
   "cell_type": "markdown",
   "id": "990f7b03",
   "metadata": {},
   "source": [
    "List is a collection which is ordered and changeable. Allows duplicate members.\n",
    "Tuple is a collection which is ordered and unchangeable. Allows duplicate members.\n",
    "Set is a collection which is unordered, unchangeable*, and unindexed. No duplicate members.\n",
    "Dictionary is a collection which is ordered** and changeable. No duplicate members."
   ]
  },
  {
   "cell_type": "markdown",
   "id": "024902be",
   "metadata": {},
   "source": [
    "Arbitrary Arguments, *args   for tuple\n",
    "If you do not know how many arguments that will be passed into your function, add a * before the parameter name in the function definition.\n",
    "\n",
    "This way the function will receive a tuple of arguments, and can access the items accordingly:"
   ]
  },
  {
   "cell_type": "code",
   "execution_count": null,
   "id": "9d99740d",
   "metadata": {},
   "outputs": [],
   "source": [
    "def my_function(*kids):\n",
    "  print(\"The youngest child is \" + kids[2])\n",
    "\n",
    "my_function(\"Emil\", \"Tobias\", \"Linus\")"
   ]
  },
  {
   "cell_type": "markdown",
   "id": "109b13c4",
   "metadata": {},
   "source": [
    "Arbitrary Keyword Arguments, **kwargs for dictionary\n",
    "If you do not know how many keyword arguments that will be passed into your function, add two asterisk: ** before the parameter name in the function definition.\n",
    "\n",
    "This way the function will receive a dictionary of arguments, and can access the items accordingly:"
   ]
  },
  {
   "cell_type": "code",
   "execution_count": 1,
   "id": "6e30f475",
   "metadata": {},
   "outputs": [
    {
     "name": "stdout",
     "output_type": "stream",
     "text": [
      "His last name is Refsnes\n"
     ]
    }
   ],
   "source": [
    "def my_function(**kid):\n",
    "  print(\"His last name is \" + kid[\"lname\"])\n",
    "\n",
    "my_function(fname = \"Tobias\", lname = \"Refsnes\")"
   ]
  },
  {
   "cell_type": "markdown",
   "id": "045d014d",
   "metadata": {},
   "source": [
    "Positional-Only Arguments\n",
    "You can specify that a function can have ONLY positional arguments, or ONLY keyword arguments.\n",
    "\n",
    "To specify that a function can have only positional arguments, add , / after the arguments:"
   ]
  },
  {
   "cell_type": "markdown",
   "id": "1be3bf34",
   "metadata": {},
   "source": [
    "Keyword-Only Arguments\n",
    "To specify that a function can have only keyword arguments, add *, before the arguments:\n",
    "\n"
   ]
  },
  {
   "cell_type": "markdown",
   "id": "f3e544a5",
   "metadata": {},
   "source": [
    "Combine Positional-Only and Keyword-Only\n",
    "You can combine the two argument types in the same function.\n",
    "\n",
    "Any argument before the / , are positional-only, and any argument after the *, are keyword-only."
   ]
  },
  {
   "cell_type": "code",
   "execution_count": null,
   "id": "27cfb399",
   "metadata": {},
   "outputs": [],
   "source": [
    "def my_function(a, b, /, *, c, d):\n",
    "  print(a + b + c + d)\n",
    "\n",
    "my_function(5, 6, c = 7, d = 8)"
   ]
  }
 ],
 "metadata": {
  "kernelspec": {
   "display_name": "ml_learning",
   "language": "python",
   "name": "python3"
  },
  "language_info": {
   "codemirror_mode": {
    "name": "ipython",
    "version": 3
   },
   "file_extension": ".py",
   "mimetype": "text/x-python",
   "name": "python",
   "nbconvert_exporter": "python",
   "pygments_lexer": "ipython3",
   "version": "3.12.3"
  }
 },
 "nbformat": 4,
 "nbformat_minor": 5
}

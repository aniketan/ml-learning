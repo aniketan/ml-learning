{
 "cells": [
  {
   "cell_type": "markdown",
   "id": "2b39ef88",
   "metadata": {},
   "source": [
    "Python Lambda\n",
    "\n",
    "A lambda function is a small anounymous function \n",
    "\n",
    "lamda can take any number of argumeny but return on one expression"
   ]
  },
  {
   "cell_type": "code",
   "execution_count": 3,
   "id": "6c0a671d",
   "metadata": {},
   "outputs": [
    {
     "name": "stdout",
     "output_type": "stream",
     "text": [
      "50\n"
     ]
    }
   ],
   "source": [
    "x = lambda a,b : a * b\n",
    "print(x(5, 10))"
   ]
  },
  {
   "cell_type": "markdown",
   "id": "b22dd617",
   "metadata": {},
   "source": [
    "The __init__() Method is constructor of class"
   ]
  },
  {
   "cell_type": "code",
   "execution_count": null,
   "id": "6c39a836",
   "metadata": {},
   "outputs": [
    {
     "name": "stdout",
     "output_type": "stream",
     "text": [
      "John(36)\n"
     ]
    }
   ],
   "source": [
    "class Person:\n",
    "  def __init__(self, name, age):\n",
    "    self.name = name\n",
    "    self.age = age\n",
    "\n",
    "  def __str__(self):\n",
    "    return f\"{self.name}({self.age})\"\n",
    "\n",
    "  def myfunc(self):\n",
    "        print(\"Hello my name is \" + self.name)\n",
    "p1 = Person(\"John\", 36)\n",
    "\n",
    "print(p1) # when object accessed as string __str__()\n",
    "p1.myfunc() "
   ]
  },
  {
   "cell_type": "code",
   "execution_count": 13,
   "id": "71aee0f0",
   "metadata": {},
   "outputs": [
    {
     "name": "stdout",
     "output_type": "stream",
     "text": [
      "Driving a Tata vehicle.\n",
      "This is a Tata Nexon.\n",
      "Animal speaks\n"
     ]
    }
   ],
   "source": [
    "\n",
    "\n",
    "# Example of Python inheritance\n",
    "class Vehicle:\n",
    "    def __init__(self, brand):\n",
    "        self.brand = brand\n",
    "\n",
    "    def drive(self):\n",
    "        print(f\"Driving a {self.brand} vehicle.\")\n",
    "\n",
    "class Car(Vehicle):\n",
    "    def __init__(self, brand, model):\n",
    "        super().__init__(brand)\n",
    "        self.model = model\n",
    "\n",
    "    def display(self):\n",
    "        print(f\"This is a {self.brand} {self.model}.\")\n",
    "\n",
    "    # Usage\n",
    "my_car = Car(\"Tata\", \"Nexon\")\n",
    "my_car.drive()\n",
    "my_car.display()\n",
    "\n",
    "# Single Inheritance\n",
    "class Animal:\n",
    "    def speak(self):\n",
    "        print(\"Animal speaks\")\n",
    "\n",
    "class Dog(Animal):\n",
    "    pass\n",
    "\n",
    "d = Dog()\n",
    "d.speak()\n",
    "\n",
    "\n",
    "\n",
    "\n"
   ]
  },
  {
   "cell_type": "code",
   "execution_count": 16,
   "id": "60f7fe84",
   "metadata": {},
   "outputs": [
    {
     "name": "stdout",
     "output_type": "stream",
     "text": [
      "Cooking, Art,Accounts\n"
     ]
    }
   ],
   "source": [
    "# Multiple Inheritance\n",
    "class Father:\n",
    "    def skills(self):\n",
    "        print(\"Music, Programming,Football\")\n",
    "\n",
    "class Mother:\n",
    "    def skills(self):\n",
    "        print(\"Cooking, Art,Accounts\")\n",
    "\n",
    "class Child(Mother,Father):\n",
    "    pass\n",
    "\n",
    "c = Child()\n",
    "# Method Resolution Order. \n",
    "# It determines the order in which base classes are searched when executing a method.\n",
    "# In Python, for multiple inheritance, the class listed first (Father) is checked first.\n",
    "# So, c.skills() calls Father's skills method, not Mother's.\n",
    "\n",
    "c.skills()  # Will use Father's skills due to MRO\n"
   ]
  },
  {
   "cell_type": "code",
   "execution_count": null,
   "id": "de16925f",
   "metadata": {},
   "outputs": [],
   "source": [
    "# Multilevel Inheritance\n",
    "class Grandparent:\n",
    "    def show(self):\n",
    "        print(\"Grandparent\")\n",
    "\n",
    "class Parent(Grandparent):\n",
    "    pass\n",
    "\n",
    "class Grandchild(Parent):\n",
    "    pass\n",
    "\n",
    "gc = Grandchild()\n",
    "gc.show()\n"
   ]
  },
  {
   "cell_type": "code",
   "execution_count": null,
   "id": "c5866310",
   "metadata": {},
   "outputs": [],
   "source": [
    "# Hierarchical Inheritance\n",
    "class Bird:\n",
    "    def fly(self):\n",
    "        print(\"Bird can fly\")\n",
    "\n",
    "class Sparrow(Bird):\n",
    "    pass\n",
    "\n",
    "class Pigeon(Bird):\n",
    "    pass\n",
    "\n",
    "sp = Sparrow()\n",
    "pg = Pigeon()\n",
    "sp.fly()\n",
    "pg.fly()"
   ]
  },
  {
   "cell_type": "code",
   "execution_count": 18,
   "id": "9bf25ce6",
   "metadata": {},
   "outputs": [
    {
     "name": "stdout",
     "output_type": "stream",
     "text": [
      "Class B\n",
      "(<class '__main__.D'>, <class '__main__.B'>, <class '__main__.C'>, <class '__main__.A'>, <class 'object'>)\n"
     ]
    }
   ],
   "source": [
    "class A:\n",
    "    def show(self):\n",
    "        print(\"Class A\")\n",
    "\n",
    "class B(A):\n",
    "    def show(self):\n",
    "        print(\"Class B\")\n",
    "\n",
    "class C(A):\n",
    "    def show(self):\n",
    "        print(\"Class C\")\n",
    "\n",
    "class D(B, C):\n",
    "    pass\n",
    "\n",
    "d = D()\n",
    "d.show()  # This will print \"Class B\" due to method resolution order (MRO)\n",
    "print(D.__mro__)  # Shows the order in which classes are searched for methods\n"
   ]
  },
  {
   "cell_type": "markdown",
   "id": "654d09c6",
   "metadata": {},
   "source": [
    "MRO __mro__"
   ]
  },
  {
   "cell_type": "markdown",
   "id": "409f8adc",
   "metadata": {},
   "source": [
    "Create an Iterator\n",
    "To create an object/class as an iterator you have to implement the methods __iter__() and __next__() to your object.\n",
    "\n",
    "As you have learned in the Python Classes/Objects chapter, all classes have a function called __init__(), which allows you to do some initializing when the object is being created.\n",
    "\n",
    "The __iter__() method acts similar, you can do operations (initializing etc.), but must always return the iterator object itself.\n",
    "\n",
    "The __next__() method also allows you to do operations, and must return the next item in the sequence."
   ]
  }
 ],
 "metadata": {
  "kernelspec": {
   "display_name": "ml_learning",
   "language": "python",
   "name": "python3"
  },
  "language_info": {
   "codemirror_mode": {
    "name": "ipython",
    "version": 3
   },
   "file_extension": ".py",
   "mimetype": "text/x-python",
   "name": "python",
   "nbconvert_exporter": "python",
   "pygments_lexer": "ipython3",
   "version": "3.12.3"
  }
 },
 "nbformat": 4,
 "nbformat_minor": 5
}
